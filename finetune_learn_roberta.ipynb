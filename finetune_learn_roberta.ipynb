{
 "cells": [
  {
   "metadata": {
    "ExecuteTime": {
     "end_time": "2025-01-11T15:27:56.871845Z",
     "start_time": "2025-01-11T15:27:56.867355Z"
    }
   },
   "cell_type": "code",
   "source": [
    "from pathlib import Path\n",
    "import torch\n",
    "from datasets import load_dataset\n",
    "from transformers import RobertaTokenizer\n",
    "from transformers import RobertaForSequenceClassification, TrainingArguments, Trainer\n",
    "from sklearn.metrics import accuracy_score\n",
    "\n",
    "DATA_SET_PATH = \"D:\\code\\pytorch\\llm_secret\\ces\\data\\engBinary_parsed.json\"\n",
    "CACHE_DIR = Path(\"cache-dir/\")"
   ],
   "id": "75918e2aba8b102c",
   "outputs": [],
   "execution_count": 132
  },
  {
   "metadata": {
    "ExecuteTime": {
     "end_time": "2025-01-11T15:27:56.956286Z",
     "start_time": "2025-01-11T15:27:56.895562Z"
    }
   },
   "cell_type": "code",
   "source": "!where python",
   "id": "2ba67c53d1646808",
   "outputs": [
    {
     "name": "stdout",
     "output_type": "stream",
     "text": [
      "D:\\code\\pytorch\\venv\\Scripts\\python.exe\n",
      "C:\\Users\\simon\\AppData\\Local\\Microsoft\\WindowsApps\\python.exe\n"
     ]
    }
   ],
   "execution_count": 133
  },
  {
   "cell_type": "code",
   "id": "initial_id",
   "metadata": {
    "collapsed": true,
    "ExecuteTime": {
     "end_time": "2025-01-11T15:27:56.971255Z",
     "start_time": "2025-01-11T15:27:56.966863Z"
    }
   },
   "source": [
    "def loading_data():\n",
    "    print(\"Start Loading Data\")\n",
    "\n",
    "    dataset = load_dataset(\"json\", data_files=str(DATA_SET_PATH), cache_dir=CACHE_DIR)\n",
    "\n",
    "    # Split the dataset\n",
    "    dataset = dataset[\"train\"].train_test_split(test_size=0.2)\n",
    "    train_dataset = dataset[\"train\"]\n",
    "    test_dataset = dataset[\"test\"].shard(num_shards=2, index=0)\n",
    "    val_dataset = dataset[\"test\"].shard(num_shards=2, index=1)\n",
    "\n",
    "    print(\"Finished Loading Data\")\n",
    "    return train_dataset, val_dataset, test_dataset\n",
    "    "
   ],
   "outputs": [],
   "execution_count": 134
  },
  {
   "metadata": {
    "ExecuteTime": {
     "end_time": "2025-01-11T15:27:57.613047Z",
     "start_time": "2025-01-11T15:27:56.980870Z"
    }
   },
   "cell_type": "code",
   "source": [
    "tokenizer = RobertaTokenizer.from_pretrained(\"roberta-base\", max_len=512)\n",
    "enc_input = tokenizer(\"This is an example sentence.\", return_tensors=\"pt\")\n",
    "\n",
    "model = RobertaForSequenceClassification.from_pretrained('roberta-base', num_labels=7, problem_type=\"multi_label_classification\")\n",
    "output = model(**enc_input)\n",
    "print(output.logits)"
   ],
   "id": "1c4d733db02cf6d6",
   "outputs": [
    {
     "name": "stderr",
     "output_type": "stream",
     "text": [
      "Some weights of RobertaForSequenceClassification were not initialized from the model checkpoint at roberta-base and are newly initialized: ['classifier.dense.bias', 'classifier.dense.weight', 'classifier.out_proj.bias', 'classifier.out_proj.weight']\n",
      "You should probably TRAIN this model on a down-stream task to be able to use it for predictions and inference.\n"
     ]
    },
    {
     "name": "stdout",
     "output_type": "stream",
     "text": [
      "tensor([[-0.0431, -0.0376, -0.0775, -0.2729,  0.0287,  0.0507,  0.0562]],\n",
      "       grad_fn=<AddmmBackward0>)\n"
     ]
    }
   ],
   "execution_count": 135
  },
  {
   "metadata": {
    "ExecuteTime": {
     "end_time": "2025-01-11T15:27:57.629423Z",
     "start_time": "2025-01-11T15:27:57.623831Z"
    }
   },
   "cell_type": "code",
   "source": [
    "def encode(batch):\n",
    "    return tokenizer(batch['sentence'], padding=\"max_length\", truncation=True, max_length=512)\n",
    "\n",
    "def get_label_list(example):\n",
    "    label_mapping = {\"joy\":0, \"sadness\":1, \"fear\":2, \"anger\":3, \"surprise\":4, \"disgust\":5, \"none\":6}\n",
    "    emotion_label_list = [0.0,0.0,0.0,0.0,0.0,0.0,0.0]\n",
    "    for emotion in example['emotions']:\n",
    "        emotion_label_list[label_mapping[emotion]] = 1\n",
    "    return emotion_label_list\n",
    "\n",
    "def add_labels(example):\n",
    "    example[\"label\"] = get_label_list(example)\n",
    "    return example\n",
    "\n",
    "def tokenize_data(train_dataset, val_dataset, test_dataset):\n",
    "    # tokenizer = RobertaTokenizer.from_pretrained(\"roberta-base\", max_len=512)\n",
    "    tokenized_train_dataset = train_dataset.map(encode)\n",
    "    tokenized_train_dataset = tokenized_train_dataset.map(add_labels)\n",
    "    \n",
    "    tokenized_val_dataset = val_dataset.map(encode)\n",
    "    tokenized_val_dataset = tokenized_val_dataset.map(add_labels)\n",
    "    \n",
    "    tokenized_test_dataset = test_dataset.map(encode)\n",
    "    tokenized_test_dataset = tokenized_test_dataset.map(add_labels)\n",
    "    \n",
    "    return tokenized_train_dataset, tokenized_val_dataset, tokenized_test_dataset\n",
    "\n",
    "def compute_metrics(eval_pred):\n",
    "    logits, labels = eval_pred\n",
    "    predictions = logits.argmax(axis=-1)\n",
    "    return {\"accuracy\": accuracy_score(labels, predictions)}"
   ],
   "id": "c86914f1bbb9a4a9",
   "outputs": [],
   "execution_count": 136
  },
  {
   "metadata": {
    "ExecuteTime": {
     "end_time": "2025-01-11T15:27:59.873704Z",
     "start_time": "2025-01-11T15:27:57.639707Z"
    }
   },
   "cell_type": "code",
   "source": [
    "train_dataset, val_dataset, test_dataset = loading_data()\n",
    "tokenized_train_dataset, tokenized_val_dataset, tokenized_test_dataset = tokenize_data(train_dataset, val_dataset, test_dataset)"
   ],
   "id": "542d0fffe496dbbb",
   "outputs": [
    {
     "name": "stdout",
     "output_type": "stream",
     "text": [
      "Start Loading Data\n",
      "Finished Loading Data\n"
     ]
    }
   ],
   "execution_count": 137
  },
  {
   "metadata": {
    "ExecuteTime": {
     "end_time": "2025-01-11T15:28:00.118616Z",
     "start_time": "2025-01-11T15:27:59.884339Z"
    }
   },
   "cell_type": "code",
   "source": [
    "device = torch.device(\"cuda\" if torch.cuda.is_available() else \"cpu\")\n",
    "model.to(device)\n",
    "print(\"Device: \", device)"
   ],
   "id": "6a1c2cabf98de677",
   "outputs": [
    {
     "name": "stdout",
     "output_type": "stream",
     "text": [
      "Device:  cuda\n"
     ]
    }
   ],
   "execution_count": 138
  },
  {
   "metadata": {
    "ExecuteTime": {
     "end_time": "2025-01-11T16:05:06.195082Z",
     "start_time": "2025-01-11T15:28:00.143124Z"
    }
   },
   "cell_type": "code",
   "source": [
    "training_args = TrainingArguments(\n",
    "    output_dir=\"roberta-for-classification\",\n",
    "    learning_rate=1e-5,\n",
    "    per_device_train_batch_size=16,\n",
    "    per_device_eval_batch_size=16,\n",
    "    num_train_epochs=15,\n",
    "    weight_decay=0.01\n",
    ")\n",
    "trainer = Trainer(\n",
    "    model=model,\n",
    "    args=training_args,\n",
    "    train_dataset=tokenized_train_dataset,\n",
    "    eval_dataset=tokenized_val_dataset,\n",
    "    tokenizer=tokenizer,\n",
    "    compute_metrics=compute_metrics,\n",
    ")\n",
    "trainer.train()\n",
    "trainer.save_model(\"roberta-for-classification\")"
   ],
   "id": "920986d73fcb828e",
   "outputs": [
    {
     "name": "stderr",
     "output_type": "stream",
     "text": [
      "C:\\Users\\simon\\AppData\\Local\\Temp\\ipykernel_22684\\3608995469.py:9: FutureWarning: `tokenizer` is deprecated and will be removed in version 5.0.0 for `Trainer.__init__`. Use `processing_class` instead.\n",
      "  trainer = Trainer(\n"
     ]
    },
    {
     "data": {
      "text/plain": [
       "<IPython.core.display.HTML object>"
      ],
      "text/html": [
       "\n",
       "    <div>\n",
       "      \n",
       "      <progress value='2085' max='2085' style='width:300px; height:20px; vertical-align: middle;'></progress>\n",
       "      [2085/2085 36:58, Epoch 15/15]\n",
       "    </div>\n",
       "    <table border=\"1\" class=\"dataframe\">\n",
       "  <thead>\n",
       " <tr style=\"text-align: left;\">\n",
       "      <th>Step</th>\n",
       "      <th>Training Loss</th>\n",
       "    </tr>\n",
       "  </thead>\n",
       "  <tbody>\n",
       "    <tr>\n",
       "      <td>500</td>\n",
       "      <td>0.356400</td>\n",
       "    </tr>\n",
       "    <tr>\n",
       "      <td>1000</td>\n",
       "      <td>0.207700</td>\n",
       "    </tr>\n",
       "    <tr>\n",
       "      <td>1500</td>\n",
       "      <td>0.136500</td>\n",
       "    </tr>\n",
       "    <tr>\n",
       "      <td>2000</td>\n",
       "      <td>0.101400</td>\n",
       "    </tr>\n",
       "  </tbody>\n",
       "</table><p>"
      ]
     },
     "metadata": {},
     "output_type": "display_data"
    }
   ],
   "execution_count": 139
  },
  {
   "metadata": {
    "ExecuteTime": {
     "end_time": "2025-01-11T16:05:06.204628Z",
     "start_time": "2025-01-11T16:05:06.200087Z"
    }
   },
   "cell_type": "code",
   "source": [
    "from sklearn.metrics import accuracy_score, f1_score\n",
    "\n",
    "def compute_metrics(eval_pred):\n",
    "    logits, labels = eval_pred\n",
    "    # logits.to(device)\n",
    "    predictions = (torch.sigmoid(torch.tensor(logits)) > 0.5).int()\n",
    "    accuracy = accuracy_score(labels, predictions.numpy())\n",
    "    f1 = f1_score(labels, predictions.numpy(), average='weighted')\n",
    "    return {\n",
    "        \"accuracy\": accuracy,\n",
    "        \"f1\": f1\n",
    "    }"
   ],
   "id": "7318d90a63f18ad6",
   "outputs": [],
   "execution_count": 140
  },
  {
   "metadata": {
    "ExecuteTime": {
     "end_time": "2025-01-11T16:05:26.212257Z",
     "start_time": "2025-01-11T16:05:06.246207Z"
    }
   },
   "cell_type": "code",
   "source": [
    "model.to(device)\n",
    "# Define the trainer\n",
    "trainer_val = Trainer(\n",
    "    model=model,\n",
    "    args=training_args,\n",
    "    compute_metrics=compute_metrics\n",
    ")\n",
    "\n",
    "# Evaluate on validation and test datasets\n",
    "val_results = trainer_val.evaluate(tokenized_val_dataset)\n",
    "test_results = trainer_val.evaluate(tokenized_test_dataset)\n",
    "\n",
    "# Print the results\n",
    "print(\"Validation Results:\", val_results)\n",
    "print(\"Test Results:\", test_results)"
   ],
   "id": "b768f83f23ea807b",
   "outputs": [
    {
     "data": {
      "text/plain": [
       "<IPython.core.display.HTML object>"
      ],
      "text/html": [
       "\n",
       "    <div>\n",
       "      \n",
       "      <progress value='36' max='18' style='width:300px; height:20px; vertical-align: middle;'></progress>\n",
       "      [18/18 00:18]\n",
       "    </div>\n",
       "    "
      ]
     },
     "metadata": {},
     "output_type": "display_data"
    },
    {
     "name": "stderr",
     "output_type": "stream",
     "text": [
      "D:\\code\\pytorch\\venv\\Lib\\site-packages\\sklearn\\metrics\\_classification.py:1565: UndefinedMetricWarning: F-score is ill-defined and being set to 0.0 in labels with no true nor predicted samples. Use `zero_division` parameter to control this behavior.\n",
      "  _warn_prf(average, modifier, f\"{metric.capitalize()} is\", len(result))\n"
     ]
    },
    {
     "name": "stdout",
     "output_type": "stream",
     "text": [
      "Validation Results: {'eval_loss': 0.3547474443912506, 'eval_model_preparation_time': 0.0025, 'eval_accuracy': 0.4332129963898917, 'eval_f1': 0.7007526361470158, 'eval_runtime': 11.0684, 'eval_samples_per_second': 25.026, 'eval_steps_per_second': 1.626}\n",
      "Test Results: {'eval_loss': 0.2887216806411743, 'eval_model_preparation_time': 0.0025, 'eval_accuracy': 0.5090252707581228, 'eval_f1': 0.7567194068712416, 'eval_runtime': 8.6183, 'eval_samples_per_second': 32.141, 'eval_steps_per_second': 2.089}\n"
     ]
    },
    {
     "name": "stderr",
     "output_type": "stream",
     "text": [
      "D:\\code\\pytorch\\venv\\Lib\\site-packages\\sklearn\\metrics\\_classification.py:1565: UndefinedMetricWarning: F-score is ill-defined and being set to 0.0 in labels with no true nor predicted samples. Use `zero_division` parameter to control this behavior.\n",
      "  _warn_prf(average, modifier, f\"{metric.capitalize()} is\", len(result))\n"
     ]
    }
   ],
   "execution_count": 141
  },
  {
   "metadata": {},
   "cell_type": "markdown",
   "source": [
    "#### LR LOG\n",
    "- with lr = 2*e-4 (15eps)\n",
    "    - Validation Results: {'eval_loss': 0.46101173758506775, 'eval_model_preparation_time': 0.002, 'eval_accuracy': 0.4187725631768953, 'eval_f1': 0.6940540982612379, 'eval_runtime': 4.891, 'eval_samples_per_second': 56.635, 'eval_steps_per_second': 3.68}\n",
    "    - Test Results: {'eval_loss': 0.37369832396507263, 'eval_model_preparation_time': 0.002, 'eval_accuracy': 0.516245487364621, 'eval_f1': 0.750948861078814, 'eval_runtime': 4.6137, 'eval_samples_per_second': 60.039, 'eval_steps_per_second': 3.901}\n",
    "- with lr = 1*e-4 (15eps)\n",
    "    - Validation Results: {'eval_loss': 0.3547474443912506, 'eval_model_preparation_time': 0.0025, =='eval_accuracy': 0.4332129963898917, 'eval_f1': 0.7007526361470158==, 'eval_runtime': 11.0684, 'eval_samples_per_second': 25.026, 'eval_steps_per_second': 1.626}\n",
    "    - Test Results: {'eval_loss': 0.2887216806411743, 'eval_model_preparation_time': 0.0025, 'eval_accuracy': 0.5090252707581228, 'eval_f1': 0.7567194068712416, 'eval_runtime': 8.6183, 'eval_samples_per_second': 32.141, 'eval_steps_per_second': 2.089}"
   ],
   "id": "2fb9edb9091c7d3f"
  },
  {
   "metadata": {
    "ExecuteTime": {
     "end_time": "2025-01-11T16:05:26.317455Z",
     "start_time": "2025-01-11T16:05:26.224814Z"
    }
   },
   "cell_type": "code",
   "source": [
    "enc_input = tokenizer(\"Today my teacher said something nice about my looks.\", return_tensors=\"pt\").to(device)\n",
    "output = model(**enc_input)\n",
    "print(output.logits)"
   ],
   "id": "1e4212bfd7b239af",
   "outputs": [
    {
     "name": "stdout",
     "output_type": "stream",
     "text": [
      "tensor([[ 3.6159, -3.5054, -3.1581, -3.1239, -2.7003, -3.5436, -3.7150]],\n",
      "       device='cuda:0', grad_fn=<AddmmBackward0>)\n"
     ]
    }
   ],
   "execution_count": 142
  },
  {
   "metadata": {
    "ExecuteTime": {
     "end_time": "2025-01-11T16:30:11.176855Z",
     "start_time": "2025-01-11T16:30:11.077234Z"
    }
   },
   "cell_type": "code",
   "source": [
    "import matplotlib.pyplot as plt\n",
    "\n",
    "train_logs = trainer.state.log_history\n",
    "\n",
    "# Extract the training loss and epoch information (or any other metric)\n",
    "losses = [log['loss'] for log in train_logs if 'loss' in log]\n",
    "epochs = [log['epoch'] for log in train_logs if 'loss' in log]\n",
    "\n",
    "# Plot the loss over time\n",
    "plt.figure(figsize=(10, 6))\n",
    "plt.plot(epochs, losses, label=\"Training Loss\", color='blue')\n",
    "plt.xlabel(\"Epochs\")\n",
    "plt.ylabel(\"Loss\")\n",
    "plt.title(\"Training Loss Over Time\")\n",
    "plt.legend()\n",
    "plt.grid(True)\n",
    "plt.show()"
   ],
   "id": "e8b9c3154ee0140d",
   "outputs": [
    {
     "data": {
      "text/plain": [
       "<Figure size 1000x600 with 1 Axes>"
      ],
      "image/png": "[encoded data removed]"
     },
     "metadata": {},
     "output_type": "display_data"
    }
   ],
   "execution_count": 148
  }
 ],
 "metadata": {
  "kernelspec": {
   "display_name": "Python 3",
   "language": "python",
   "name": "python3"
  },
  "language_info": {
   "codemirror_mode": {
    "name": "ipython",
    "version": 2
   },
   "file_extension": ".py",
   "mimetype": "text/x-python",
   "name": "python",
   "nbconvert_exporter": "python",
   "pygments_lexer": "ipython2",
   "version": "2.7.6"
  }
 },
 "nbformat": 4,
 "nbformat_minor": 5
}
