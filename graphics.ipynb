{
 "cells": [
  {
   "cell_type": "markdown",
   "metadata": {},
   "source": [
    "# Datensätze"
   ]
  },
  {
   "cell_type": "code",
   "execution_count": 5,
   "metadata": {},
   "outputs": [
    {
     "name": "stdout",
     "output_type": "stream",
     "text": [
      "\n",
      "Dataset: eng_a_parsed.json\n",
      "Total datapoints: 2768\n",
      "Emotion distribution: {'anger': 333, 'fear': 1611, 'joy': 674, 'sadness': 878, 'surprise': 839, 'disgust': 0, 'none': 239}\n",
      "\n",
      "Dataset: parsed_data.json\n",
      "Total datapoints: 239777\n",
      "Emotion distribution: {'anger': 57317, 'fear': 47712, 'joy': 59888, 'sadness': 59888, 'surprise': 14972, 'disgust': 0, 'none': 0}\n",
      "\n",
      "Dataset: parsed_data_unpruned.json\n",
      "Total datapoints: 981335\n",
      "Emotion distribution: {'anger': 293537, 'fear': 18499, 'joy': 471144, 'sadness': 151693, 'surprise': 9762, 'disgust': 4502, 'none': 32198}\n",
      "\n",
      "Dataset: parsed_data.json\n",
      "Total datapoints: 90698\n",
      "Emotion distribution: {'anger': 8084, 'fear': 3197, 'joy': 7983, 'sadness': 6758, 'surprise': 5514, 'disgust': 5301, 'none': 55298}\n",
      "\n",
      "Dataset: merged_data.json\n",
      "Total datapoints: 1311926\n",
      "Emotion distribution: {'anger': 358954, 'fear': 69471, 'joy': 539046, 'sadness': 218374, 'surprise': 30279, 'disgust': 9803, 'none': 87509}\n",
      "\n",
      "Dataset: data_15k.json\n",
      "Total datapoints: 14997\n",
      "Emotion distribution: {'anger': 2144, 'fear': 2144, 'joy': 2144, 'sadness': 2144, 'surprise': 2144, 'disgust': 2144, 'none': 2144}\n"
     ]
    }
   ],
   "source": [
    "import json\n",
    "\n",
    "from common import EMOTION_LABELS\n",
    "\n",
    "\n",
    "class Dataset:\n",
    "    def __init__(self, path):\n",
    "        self.path = path\n",
    "        self.data = self.load_data()\n",
    "        self.emotion_counter = {}\n",
    "        for emotion in EMOTION_LABELS:\n",
    "            self.emotion_counter[emotion] = 0\n",
    "\n",
    "    def load_data(self):\n",
    "        with open(self.path) as f:\n",
    "            data = json.load(f)\n",
    "        return data\n",
    "\n",
    "\n",
    "dataset1 = Dataset(\"data/codabench_data/train/eng_a_parsed.json\")\n",
    "dataset2 = Dataset(\"data/dair-ai/parsed_data.json\")\n",
    "dataset3 = Dataset(\"data/Emotions_Data/parsed_data_unpruned.json\")\n",
    "dataset4 = Dataset(\"data/go_emotions/parsed_data.json\")\n",
    "dataset5 = Dataset(\"data/merged_data.json\")\n",
    "dataset6 = Dataset(\"data/data_15k.json\")\n",
    "\n",
    "datasets = [dataset1, dataset2, dataset3, dataset4, dataset5, dataset6]\n",
    "\n",
    "for dataset in datasets:\n",
    "    print(\"\\nDataset:\", dataset.path.split(\"/\")[-1])\n",
    "    for entry in dataset.data:\n",
    "        for emotion in entry[\"emotions\"]:\n",
    "            dataset.emotion_counter[emotion] += 1\n",
    "\n",
    "    print(\"Total datapoints:\", len(dataset.data))\n",
    "    print(\"Emotion distribution:\", dataset.emotion_counter)\n"
   ]
  }
 ],
 "metadata": {
  "kernelspec": {
   "display_name": "chkr211d-secretllm",
   "language": "python",
   "name": "python3"
  },
  "language_info": {
   "codemirror_mode": {
    "name": "ipython",
    "version": 3
   },
   "file_extension": ".py",
   "mimetype": "text/x-python",
   "name": "python",
   "nbconvert_exporter": "python",
   "pygments_lexer": "ipython3",
   "version": "3.9.18"
  }
 },
 "nbformat": 4,
 "nbformat_minor": 2
}
